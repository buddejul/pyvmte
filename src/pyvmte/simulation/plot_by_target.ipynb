{
 "cells": [
  {
   "cell_type": "code",
   "execution_count": null,
   "metadata": {},
   "outputs": [],
   "source": [
    "\"\"\"Try out plotting by target.\"\"\"\n",
    "\n",
    "import numpy as np\n",
    "\n",
    "from pyvmte.config import SETUP_FIG5, Instrument\n",
    "from pyvmte.replication.plot_bounds_by_target import create_bounds_by_target_df\n",
    "from pyvmte.utilities import load_paper_dgp"
   ]
  },
  {
   "cell_type": "code",
   "execution_count": null,
   "metadata": {},
   "outputs": [],
   "source": [
    "IV_PAPER = Instrument(\n",
    "    support=np.array([0, 1, 2]),\n",
    "    pmf=np.array([0.5, 0.4, 0.1]),\n",
    "    pscores=np.array([0.35, 0.6, 0.7]),\n",
    ")\n",
    "\n",
    "DGP = load_paper_dgp()"
   ]
  },
  {
   "cell_type": "code",
   "execution_count": null,
   "metadata": {},
   "outputs": [],
   "source": [
    "create_bounds_by_target_df(\n",
    "    setup=SETUP_FIG5,\n",
    "    instrument=IV_PAPER,\n",
    "    m0=DGP[\"m0\"],\n",
    "    m1=DGP[\"m1\"],\n",
    "    n_gridpoints=100,\n",
    ")"
   ]
  },
  {
   "cell_type": "code",
   "execution_count": null,
   "metadata": {},
   "outputs": [],
   "source": []
  }
 ],
 "metadata": {
  "language_info": {
   "codemirror_mode": {
    "name": "ipython",
    "version": 3
   },
   "file_extension": ".py",
   "mimetype": "text/x-python",
   "name": "python",
   "nbconvert_exporter": "python",
   "pygments_lexer": "ipython3"
  }
 },
 "nbformat": 4,
 "nbformat_minor": 2
}
