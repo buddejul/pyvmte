{
 "cells": [
  {
   "cell_type": "code",
   "execution_count": null,
   "metadata": {},
   "outputs": [],
   "source": [
    "\"\"\"Try out plotting by target.\"\"\"\n",
    "import os\n",
    "from itertools import product\n",
    "from pathlib import Path\n",
    "\n",
    "import numpy as np\n",
    "import pandas as pd\n",
    "import plotly.graph_objects as go\n",
    "\n",
    "from pyvmte.config import BLD, SETUP_FIG5, SIMULATION_RESULTS_DIR\n",
    "from pyvmte.estimation.estimation import _compute_u_partition, _generate_basis_funcs\n",
    "from pyvmte.identification.identification import identification\n",
    "from pyvmte.utilities import load_paper_dgp\n",
    "\n",
    "BY_TARGET = SIMULATION_RESULTS_DIR / \"by_target\"\n",
    "DGP = load_paper_dgp()"
   ]
  },
  {
   "cell_type": "code",
   "execution_count": null,
   "metadata": {},
   "outputs": [],
   "source": [
    "files = [f for f in os.listdir(BY_TARGET) if Path.is_file(BY_TARGET / f)]\n",
    "files\n",
    "\n",
    "dfs = [pd.read_pickle(BY_TARGET / f).assign(filename=f) for f in files]  # noqa: S301\n",
    "df_estimates = pd.concat(dfs, ignore_index=True)\n",
    "df_estimates.head()"
   ]
  },
  {
   "cell_type": "code",
   "execution_count": null,
   "metadata": {},
   "outputs": [],
   "source": [
    "# From the filename column extract the string between \"u_hi\" and \".pkl\"\n",
    "df_estimates[\"u_hi\"] = df_estimates[\"filename\"].str.extract(r\"u_hi_(.*)\\.pkl\")\n",
    "df_estimates[\"u_hi\"] = df_estimates[\"u_hi\"].astype(float)\n",
    "df_estimates[\"u_hi\"].unique()\n",
    "\n",
    "# Only keep those with u_hi in np.arange(0.35, 1, 0.05)\n",
    "df_estimates = df_estimates[df_estimates[\"u_hi\"].isin(np.arange(0.35, 1, 0.05))]\n",
    "df_estimates[\"u_hi\"].unique()"
   ]
  },
  {
   "cell_type": "code",
   "execution_count": null,
   "metadata": {},
   "outputs": [],
   "source": [
    "fig = go.Figure()\n",
    "\n",
    "# Get unique elements of the u_hi column\n",
    "unique_target_values = df_estimates[\"u_hi\"].unique()\n",
    "\n",
    "for target_value in unique_target_values:\n",
    "    fig.add_trace(\n",
    "        go.Violin(\n",
    "            x=df_estimates[\"u_hi\"][df_estimates[\"u_hi\"] == target_value],\n",
    "            y=df_estimates[\"upper_bound\"][df_estimates[\"u_hi\"] == target_value],\n",
    "            name=target_value,\n",
    "            box_visible=True,\n",
    "            meanline_visible=True,\n",
    "            line_color=\"green\",\n",
    "        ),\n",
    "    )\n",
    "\n",
    "    fig.add_trace(\n",
    "        go.Violin(\n",
    "            x=df_estimates[\"u_hi\"][df_estimates[\"u_hi\"] == target_value],\n",
    "            y=df_estimates[\"lower_bound\"][df_estimates[\"u_hi\"] == target_value],\n",
    "            name=target_value,\n",
    "            box_visible=True,\n",
    "            meanline_visible=True,\n",
    "            line_color=\"blue\",\n",
    "        ),\n",
    "    )\n",
    "\n",
    "# Remove legend\n",
    "fig.update_layout(showlegend=False)\n",
    "\n",
    "# Update title\n",
    "fig.update_layout(title_text=\"Sharp Non-Parametric Bound Estimates by Target Parameter\")\n",
    "fig.update_xaxes(title_text=\"Upper Bound of Target Parameter\")\n",
    "fig.update_yaxes(title_text=\"Bound Estimate\")\n",
    "\n",
    "fig.show()"
   ]
  },
  {
   "cell_type": "code",
   "execution_count": null,
   "metadata": {},
   "outputs": [],
   "source": [
    "INSTRUMENT = {\n",
    "    \"support_z\": DGP[\"support_z\"],\n",
    "    \"pscore_z\": DGP[\"pscore_z\"],\n",
    "    \"pdf_z\": DGP[\"pdf_z\"],\n",
    "}\n",
    "\n",
    "upper_bounds = np.zeros(len(unique_target_values))\n",
    "lower_bounds = np.zeros(len(unique_target_values))\n",
    "\n",
    "for u_hi_target in [0.9]:\n",
    "    late_target = {\n",
    "        \"type\": \"late\",\n",
    "        \"u_lo\": 0.35,\n",
    "        \"u_hi\": u_hi_target,\n",
    "    }\n",
    "\n",
    "    u_partition = _compute_u_partition(target=late_target, pscore_z=DGP[\"pscore_z\"])\n",
    "    bfuncs = _generate_basis_funcs(\"constant\", u_partition)\n",
    "\n",
    "    print(late_target)\n",
    "    print(u_partition)\n",
    "    print(bfuncs)\n",
    "    print(SETUP_FIG5[\"identified_estimands\"])\n",
    "\n",
    "    combinations = product([0, 1], [0, 1, 2])\n",
    "\n",
    "    cross_estimands = [\n",
    "        {\"type\": \"cross\", \"dz_cross\": list(comb)} for comb in combinations\n",
    "    ]\n",
    "\n",
    "    bounds = identification(\n",
    "        target=late_target,\n",
    "        identified_estimands=cross_estimands,\n",
    "        basis_funcs=bfuncs,\n",
    "        m0_dgp=DGP[\"m0\"],\n",
    "        m1_dgp=DGP[\"m1\"],\n",
    "        u_partition=u_partition,\n",
    "        instrument=INSTRUMENT,\n",
    "        analytical_integration=False,\n",
    "    )\n",
    "\n",
    "    print(bounds)\n",
    "\n",
    "    upper_bounds[u_hi_target == unique_target_values] = bounds[\"upper_bound\"]\n",
    "    lower_bounds[u_hi_target == unique_target_values] = bounds[\"lower_bound\"]"
   ]
  },
  {
   "cell_type": "code",
   "execution_count": null,
   "metadata": {},
   "outputs": [],
   "source": [
    "print(SETUP_FIG5[\"identified_estimands\"])"
   ]
  },
  {
   "cell_type": "code",
   "execution_count": null,
   "metadata": {},
   "outputs": [],
   "source": [
    "lower_bounds\n",
    "upper_bounds"
   ]
  },
  {
   "cell_type": "code",
   "execution_count": null,
   "metadata": {},
   "outputs": [],
   "source": [
    "# Put into dataframe\n",
    "df_identification = pd.DataFrame(\n",
    "    {\n",
    "        \"u_hi\": unique_target_values,\n",
    "        \"upper_bound\": upper_bounds,\n",
    "        \"lower_bound\": lower_bounds,\n",
    "    },\n",
    ")\n",
    "\n",
    "df_identification"
   ]
  },
  {
   "cell_type": "code",
   "execution_count": null,
   "metadata": {},
   "outputs": [],
   "source": [
    "data_bounds = pd.read_pickle(  # noqa: S301\n",
    "    BLD / \"python\" / \"data\" / \"bounds_by_target.pickle\",\n",
    ")\n",
    "data_bounds.head()"
   ]
  },
  {
   "cell_type": "code",
   "execution_count": null,
   "metadata": {},
   "outputs": [],
   "source": [
    "data_bounds = data_bounds[data_bounds[\"u_hi\"] >= 0.45]  # noqa: PLR2004"
   ]
  },
  {
   "cell_type": "code",
   "execution_count": null,
   "metadata": {},
   "outputs": [],
   "source": [
    "# Plot lines for lower and upper bounds from data_bounds\n",
    "fig = go.Figure()\n",
    "\n",
    "fig.add_trace(\n",
    "    go.Scatter(\n",
    "        x=data_bounds[\"u_hi\"],\n",
    "        y=data_bounds[\"upper_bound\"],\n",
    "        name=\"Upper Bound\",\n",
    "        line_color=\"green\",\n",
    "    ),\n",
    ")\n",
    "\n",
    "fig.add_trace(\n",
    "    go.Scatter(\n",
    "        x=data_bounds[\"u_hi\"],\n",
    "        y=data_bounds[\"lower_bound\"],\n",
    "        name=\"Lower Bound\",\n",
    "        line_color=\"blue\",\n",
    "    ),\n",
    ")"
   ]
  },
  {
   "cell_type": "code",
   "execution_count": null,
   "metadata": {},
   "outputs": [],
   "source": []
  }
 ],
 "metadata": {
  "language_info": {
   "codemirror_mode": {
    "name": "ipython",
    "version": 3
   },
   "file_extension": ".py",
   "mimetype": "text/x-python",
   "name": "python",
   "nbconvert_exporter": "python",
   "pygments_lexer": "ipython3"
  }
 },
 "nbformat": 4,
 "nbformat_minor": 2
}
